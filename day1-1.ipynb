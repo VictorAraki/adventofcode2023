{
 "cells": [
  {
   "cell_type": "code",
   "execution_count": 23,
   "metadata": {},
   "outputs": [
    {
     "name": "stdout",
     "output_type": "stream",
     "text": [
      "1abc2\n",
      "pqr3stu8vwx\n",
      "a1b2c3d4e5f\n",
      "treb7uchet\n"
     ]
    }
   ],
   "source": [
    "input_test = \"\"\"1abc2\n",
    "pqr3stu8vwx\n",
    "a1b2c3d4e5f\n",
    "treb7uchet\"\"\"\n",
    "\n",
    "print(input_test)"
   ]
  },
  {
   "cell_type": "code",
   "execution_count": 31,
   "metadata": {},
   "outputs": [],
   "source": [
    "def get_all_numbers(input):\n",
    "\n",
    "    all_numbers = []\n",
    "\n",
    "    lines = input.split('\\n')\n",
    "    for line in lines:     \n",
    "        num_1 = None\n",
    "        num_2 = None\n",
    "        for char in line:\n",
    "            if char.isdigit():\n",
    "                if num_1 is None:\n",
    "                    num_1 = char\n",
    "                else:\n",
    "                    num_2 = char\n",
    "        if num_1 is not None and num_2 is not None:\n",
    "            number = int(num_1 + num_2)\n",
    "        else:\n",
    "            number = int(num_1 + num_1)\n",
    "        all_numbers.append(number)\n",
    "\n",
    "    return all_numbers\n",
    "\n",
    "def sum_numbers(all_numbers):\n",
    "    total_sum = sum(all_numbers)\n",
    "    return total_sum"
   ]
  },
  {
   "cell_type": "code",
   "execution_count": 33,
   "metadata": {},
   "outputs": [
    {
     "name": "stdout",
     "output_type": "stream",
     "text": [
      "oi 1abc2\n",
      "oi pqr3stu8vwx\n",
      "oi a1b2c3d4e5f\n",
      "oi treb7uchet\n"
     ]
    },
    {
     "data": {
      "text/plain": [
       "142"
      ]
     },
     "execution_count": 33,
     "metadata": {},
     "output_type": "execute_result"
    }
   ],
   "source": [
    "all_numbers = get_all_numbers(input_test)\n",
    "sum_numbers(all_numbers)"
   ]
  },
  {
   "cell_type": "code",
   "execution_count": null,
   "metadata": {},
   "outputs": [],
   "source": []
  }
 ],
 "metadata": {
  "kernelspec": {
   "display_name": "Python 3",
   "language": "python",
   "name": "python3"
  },
  "language_info": {
   "codemirror_mode": {
    "name": "ipython",
    "version": 3
   },
   "file_extension": ".py",
   "mimetype": "text/x-python",
   "name": "python",
   "nbconvert_exporter": "python",
   "pygments_lexer": "ipython3",
   "version": "3.9.12"
  }
 },
 "nbformat": 4,
 "nbformat_minor": 2
}
